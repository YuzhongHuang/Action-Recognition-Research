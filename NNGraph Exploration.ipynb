{
 "cells": [
  {
   "cell_type": "code",
   "execution_count": 7,
   "metadata": {
    "collapsed": false
   },
   "outputs": [],
   "source": [
    "require \"nngraph\"\n",
    "require \"rnn\""
   ]
  },
  {
   "cell_type": "code",
   "execution_count": 10,
   "metadata": {
    "collapsed": false
   },
   "outputs": [],
   "source": [
    "-- I will start with the LeNet I build with NN to visualize my network\n",
    "\n",
    "-- define the LeNet function\n",
    "\n",
    "function get_LeNet()\n",
    "    -- it is common style to mark inputs with identity nodes for clarity.\n",
    "    local input = nn.Identity()()\n",
    "    \n",
    "    -- each hidden layer is achieved by connecting the previous one\n",
    "    -- here we define a single hidden layer network\n",
    "    local conv1 = nn.SpatialConvolution(1, 6, 5, 5)(input) -- 3 input image channels, 6 output channels, 5x5 convolution kernel\n",
    "    local conv1_a = nn.ReLU()(conv1) -- non-linearity \n",
    "    local pool1 = nn.SpatialMaxPooling(2,2,2,2)(conv1_a) -- A max-pooling operation that looks at 2x2 windows and finds the max.\n",
    "\n",
    "    local conv2 = nn.SpatialConvolution(6, 16, 5, 5)(pool1) -- 6 input image channels, 16 output channels, 5x5 convolution kernel\n",
    "    local conv2_a = nn.ReLU()(conv2) -- non-linearity \n",
    "    local pool2 = nn.SpatialMaxPooling(2,2,2,2)(conv2_a) -- A max-pooling operation that looks at 2x2 windows and finds the max.\n",
    "   \n",
    "    local reshape = nn.View(16*5*5)(pool2) -- reshapes from a 3D tensor of 16x5x5 into 1D tensor of 16*5*5\n",
    "\n",
    "    local fullConnect1 = nn.Linear(16*5*5, 120)(reshape) -- fully connected layer (matrix multiplication between input and weights)\n",
    "    local fullConnect1_a = nn.ReLU()(fullConnect1) -- non-linearity \n",
    "    \n",
    "    local fullConnect2 = nn.Linear(120, 84)(fullConnect1_a)\n",
    "    local fullConnect2_a = nn.ReLU()(fullConnect2) -- non-linearity \n",
    "    \n",
    "    local fullConnect3 = nn.Linear(84, 10)(fullConnect2_a) -- 10 is the number of outputs of the network (in this case, 10 digits)\n",
    "    local softMax = nn.LogSoftMax()(fullConnect3)\n",
    "    \n",
    "    -- the following function call inspects the local variables in this\n",
    "    -- function and finds the nodes corresponding to local variables.\n",
    "    nngraph.annotateNodes()\n",
    "    return nn.gModule({input}, {softMax})\n",
    "end\n",
    "    \n",
    "LeNet = get_LeNet()\n",
    "x = torch.rand(1, 32, 32)\n",
    "dx = torch.rand(10)\n",
    "LeNet:updateOutput(x)\n",
    "LeNet:updateGradInput(x, dx)\n",
    "LeNet:accGradParameters(x, dx)\n",
    "\n",
    "-- draw graph (the forward graph, '.fg')\n",
    "-- this will produce an SVG in the runtime directory\n",
    "graph.dot(LeNet.fg, 'LeNet', 'LeNet_Annotated')"
   ]
  },
  {
   "cell_type": "markdown",
   "metadata": {},
   "source": [
    "<img src=\"LeNet_Annotated.svg\" width=\"400\">"
   ]
  },
  {
   "cell_type": "code",
   "execution_count": 9,
   "metadata": {
    "collapsed": false
   },
   "outputs": [],
   "source": [
    "-- next step would be to concatnate the LeNet with a LSTM for video data\n",
    "\n",
    "-- define the LeNet function\n",
    "\n",
    "function get_LCRN()\n",
    "    -- it is common style to mark inputs with identity nodes for clarity.\n",
    "    local input = nn.Identity()()\n",
    "    \n",
    "    -- each hidden layer is achieved by connecting the previous one\n",
    "    -- here we define a single hidden layer network\n",
    "    local conv1 = nn.SpatialConvolution(1, 6, 5, 5)(input) -- 3 input image channels, 6 output channels, 5x5 convolution kernel\n",
    "    local conv1_a = nn.ReLU()(conv1) -- non-linearity \n",
    "    local pool1 = nn.SpatialMaxPooling(2,2,2,2)(conv1_a) -- A max-pooling operation that looks at 2x2 windows and finds the max.\n",
    "\n",
    "    local conv2 = nn.SpatialConvolution(6, 16, 5, 5)(pool1) -- 6 input image channels, 16 output channels, 5x5 convolution kernel\n",
    "    local conv2_a = nn.ReLU()(conv2) -- non-linearity \n",
    "    local pool2 = nn.SpatialMaxPooling(2,2,2,2)(conv2_a) -- A max-pooling operation that looks at 2x2 windows and finds the max.\n",
    "   \n",
    "    local reshape = nn.View(16*5*5)(pool2) -- reshapes from a 3D tensor of 16x5x5 into 1D tensor of 16*5*5\n",
    "\n",
    "    local fullConnect1 = nn.Linear(16*5*5, 120)(reshape) -- fully connected layer (matrix multiplication between input and weights)\n",
    "    local fullConnect1_a = nn.ReLU()(fullConnect1) -- non-linearity \n",
    "    \n",
    "    local fullConnect2 = nn.Linear(120, 84)(fullConnect1_a)\n",
    "    local fullConnect2_a = nn.ReLU()(fullConnect2) -- non-linearity \n",
    "    \n",
    "    local fullConnect3 = nn.Linear(84, 10)(fullConnect2_a) -- 10 is the number of outputs of the network (in this case, 10 digits)\n",
    "    local softMax = nn.LogSoftMax()(fullConnect3)\n",
    "    \n",
    "    -- concatnate with LSTM\n",
    "    local split = nn.SplitTable(1)(softMax)\n",
    "    local sequence = nn.Sequencer(nn.LSTM(10,10,5))(split)\n",
    "    local selectTable = nn.SelectTable(-1)(sequence)\n",
    "    local output = nn.LogSoftMax()(selectTable)\n",
    "    \n",
    "    -- the following function call inspects the local variables in this\n",
    "    -- function and finds the nodes corresponding to local variables.\n",
    "    nngraph.annotateNodes()\n",
    "    return nn.gModule({input}, {output})\n",
    "end\n",
    "\n",
    "LCRN = get_LCRN()\n",
    "x = torch.rand(20, 1, 32, 32)\n",
    "dx = torch.rand(10)\n",
    "LCRN:updateOutput(x)\n",
    "LCRN:updateGradInput(x, dx)\n",
    "LCRN:accGradParameters(x, dx)\n",
    "\n",
    "-- draw graph (the forward graph, '.fg')\n",
    "-- this will produce an SVG in the runtime directory\n",
    "graph.dot(LCRN.fg, 'LCRN', 'LCRN_Annotated')"
   ]
  }
 ],
 "metadata": {
  "kernelspec": {
   "display_name": "iTorch",
   "language": "lua",
   "name": "itorch"
  },
  "language_info": {
   "name": "lua",
   "version": "5.1"
  }
 },
 "nbformat": 4,
 "nbformat_minor": 0
}
